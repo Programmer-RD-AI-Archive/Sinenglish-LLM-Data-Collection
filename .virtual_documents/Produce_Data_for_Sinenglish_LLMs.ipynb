import pandas as pd
import numpy as np
import csv
import matplotlib.pyplot as plt
from googletrans import Translator
import logging
import time
from deep_translator import GoogleTranslator
# Import the logging module to handle errors
logging.basicConfig(level=logging.ERROR)


!pip install googletrans==3.1.0a0


def translate_to_sinhala(text):
    time.sleep(1)
    translator = Translator()
    time.sleep(1)
    translation = translator.translate(text, src='en', dest='si')
    time.sleep(1)
    return translation.text


# def translate_to_sinhala(text):
#     translation = GoogleTranslator(source='en', target='si').translate(text)
#     return translation


def convert_txt_to_csv(file_path, encoding='utf-16'):
    with open(file_path, 'r', encoding=encoding) as file:
        content = file.read()
    lines = content.strip().split('\n')
    return lines


# convert_txt_to_csv('./data/Singlish/Romanized Sinhala- sinhala cleaned data.txt')


sinhala_to_singlish_dict = {}
singlish_to_sinhala_dict = {}


from tqdm import tqdm


for word_combo in tqdm(convert_txt_to_csv('./data/Singlish/Swa Bhasha D 1.txt', encoding='utf-8')):
    singlish, sinhala = word_combo.split('/')
    sinhala_to_singlish_dict[sinhala.strip().lower()] = singlish.strip().lower()
    singlish_to_sinhala_dict[singlish.strip().lower()] = sinhala.strip().lower()


for word_combo in tqdm(convert_txt_to_csv('./data/Singlish/test1.txt')):
    sinhala, singlish = word_combo.split(',')
    sinhala_to_singlish_dict[sinhala.strip().lower()] = singlish.strip().lower()
    singlish_to_sinhala_dict[singlish.strip().lower()] = sinhala.strip().lower()


# convert_txt_to_csv('./data/Singlish/WSD Romanized-Sinhala - Sinhala .txt', encoding="utf-8")


list(sinhala_to_singlish_dict.values())[:5]


list(singlish_to_sinhala_dict.values())[:5]


# english_text = "Hello, how are you?"
# sinhala_text = translate_to_sinhala(english_text)
# print(f"English: {english_text}")
# print(f"Sinhala: {sinhala_text}")


tweet_gpt = pd.read_csv('./data/ChatBot/TweetChatGPT.csv')[['Tweet', 'Description']]


general_chatbot = pd.read_csv('./data/ChatBot/GeneralCovos.csv')[['question', 'answer']]


general_chatbot.columns = ['q', 'a']


tweet_gpt.columns = ['q', 'a']


data = pd.concat([general_chatbot, tweet_gpt])


data


data.iloc[0]


def sinhala_to_singlish(sentence):
    sentence = remove_other_characters(sentence).split(' ')
    singlish_words = []
    for word in sentence:
        if word in sinhala_to_singlish_dict.keys():
            singlish_words.append(sinhala_to_singlish_dict[word])
        else:
            singlish_words.append("[Unkown]")
    return " ".join(singlish_words)


import re


random_characters = ['!', '"', "'", '#', '$', '%', '&', '(', ')', '*', '+', ',', '-', '.', '/', ':', ';', '<', '=', '>', '?', '@', '[', '\\', ']', '^', '_', '`', '{', '|', '}', '~']
remove_other_characters = lambda sentence: re.sub(r'\s+', ' ', ''.join(char if char not in random_characters else ' ' for char in sentence))


converted_data_dict = {
    "Sinhala":[],
    "English":[],
    "Singlish":[]
}


import threading
from queue import Queue


def save_data(converted_data_dict):
    df = pd.DataFrame(converted_data_dict)
    df.to_csv('converted_data.csv', index=False)

def worker():
    while True:
        idx = idx_queue.get()
        if idx is None:
            break
        row = data.iloc[idx]
        english = row['q'] + row['a']
        english = english.strip().lower()
        english = remove_other_characters(english)
        sinhala = translate_to_sinhala(english)
        singlish = sinhala_to_singlish(sinhala)
        with lock:
            converted_data_dict['Sinhala'].append(sinhala)
            converted_data_dict['English'].append(english)
            converted_data_dict['Singlish'].append(singlish)
            # Save data every time it is updated
            save_data(converted_data_dict)
        idx_queue.task_done()
        progress_bar.update(1)

# Number of threads to use
num_threads = 6  # Adjust as needed

# Initialize data structures
converted_data_dict = {'Sinhala': [], 'English': [], 'Singlish': []}
idx_queue = Queue()
lock = threading.Lock()

# Add indices to the queue with progress bar
with tqdm(total=len(data), desc="Queueing", unit="rows") as queueing_bar:
    for idx in range(len(data)):
        idx_queue.put(idx)
        queueing_bar.update(1)

# Start worker threads
threads = []
for _ in range(num_threads):
    thread = threading.Thread(target=worker)
    thread.start()
    threads.append(thread)

# Use tqdm to track progress
with tqdm(total=len(data), desc="Processing", unit="rows") as progress_bar:
    for _ in range(num_threads):
        idx_queue.put(None)

    # Wait for all tasks in the queue to be processed
    idx_queue.join()

# Wait for all threads to finish
for thread in threads:
    thread.join()



