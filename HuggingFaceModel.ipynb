{
 "cells": [
  {
   "cell_type": "code",
   "execution_count": 3,
   "id": "a9da9fba-289b-4f00-987e-b5caa22dcfc2",
   "metadata": {},
   "outputs": [
    {
     "ename": "RuntimeError",
     "evalue": "Sizes of tensors must match except in dimension 0. Expected size 512 but got size 0 for tensor number 1191 in the list.",
     "output_type": "error",
     "traceback": [
      "\u001b[0;31m---------------------------------------------------------------------------\u001b[0m",
      "\u001b[0;31mRuntimeError\u001b[0m                              Traceback (most recent call last)",
      "Cell \u001b[0;32mIn[3], line 24\u001b[0m\n\u001b[1;32m     21\u001b[0m     tokenized_data\u001b[38;5;241m.\u001b[39mappend(tokenized_sentence\u001b[38;5;241m.\u001b[39minput_ids)\n\u001b[1;32m     23\u001b[0m \u001b[38;5;66;03m# Concatenate tokenized sequences into a single tensor\u001b[39;00m\n\u001b[0;32m---> 24\u001b[0m tokenized_data \u001b[38;5;241m=\u001b[39m torch\u001b[38;5;241m.\u001b[39mcat(tokenized_data, dim\u001b[38;5;241m=\u001b[39m\u001b[38;5;241m0\u001b[39m)\n\u001b[1;32m     26\u001b[0m \u001b[38;5;66;03m# Train the model\u001b[39;00m\n\u001b[1;32m     27\u001b[0m model \u001b[38;5;241m=\u001b[39m GPT2LMHeadModel\u001b[38;5;241m.\u001b[39mfrom_pretrained(\u001b[38;5;124m\"\u001b[39m\u001b[38;5;124mgpt2\u001b[39m\u001b[38;5;124m\"\u001b[39m)\n",
      "\u001b[0;31mRuntimeError\u001b[0m: Sizes of tensors must match except in dimension 0. Expected size 512 but got size 0 for tensor number 1191 in the list."
     ]
    }
   ],
   "source": [
    "import pandas as pd\n",
    "from transformers import GPT2LMHeadModel, GPT2Tokenizer, DataCollatorForLanguageModeling, Trainer, TrainingArguments\n",
    "import torch\n",
    "\n",
    "# Load your data from CSV\n",
    "df = pd.read_csv(\"converted_data.csv\")\n",
    "\n",
    "# Assuming \"Singlish\" is the column name where your text data resides\n",
    "singlish_data = df[\"Singlish\"].tolist()\n",
    "\n",
    "# Preprocess the Singlish data by removing occurrences of \"[Unknown]\" and empty sentences\n",
    "singlish_data = [sentence.replace(\"[Unkown]\", \"\").strip() for sentence in singlish_data if sentence.strip()]\n",
    "\n",
    "# Tokenize the data\n",
    "tokenizer = GPT2Tokenizer.from_pretrained(\"gpt2\")\n",
    "tokenizer.pad_token = tokenizer.eos_token  # Add a pad token\n",
    "tokenized_data = []\n",
    "\n",
    "for sentence in singlish_data:\n",
    "    tokenized_sentence = tokenizer(sentence, padding='max_length', truncation=True, max_length=512, return_tensors='pt')\n",
    "    tokenized_data.append(tokenized_sentence.input_ids)\n",
    "\n",
    "# Concatenate tokenized sequences into a single tensor\n",
    "tokenized_data = torch.cat(tokenized_data, dim=0)\n",
    "\n",
    "# Train the model\n",
    "model = GPT2LMHeadModel.from_pretrained(\"gpt2\")\n",
    "training_args = TrainingArguments(\n",
    "    output_dir=\"./lm_model\",\n",
    "    overwrite_output_dir=True,\n",
    "    num_train_epochs=5,\n",
    "    per_device_train_batch_size=4,\n",
    "    save_steps=10_000,\n",
    "    save_total_limit=2,\n",
    ")\n",
    "\n",
    "data_collator = DataCollatorForLanguageModeling(tokenizer=tokenizer, mlm=False)\n",
    "trainer = Trainer(\n",
    "    model=model,\n",
    "    args=training_args,\n",
    "    data_collator=data_collator,\n",
    "    train_dataset=tokenized_data,  # Pass tokenized data directly\n",
    ")\n",
    "\n",
    "trainer.train()\n",
    "\n",
    "# Save the model\n",
    "model.save_pretrained(\"./lm_model\")\n",
    "\n",
    "print(\"Training completed and model saved successfully.\")\n"
   ]
  },
  {
   "cell_type": "code",
   "execution_count": null,
   "id": "f843e0d3-1e4b-478d-9b77-efb741ac6794",
   "metadata": {},
   "outputs": [],
   "source": [
    "# Load the trained model and tokenizer\n",
    "model = GPT2LMHeadModel.from_pretrained(\"./lm_model\")\n",
    "tokenizer = GPT2Tokenizer.from_pretrained(\"gpt2\")\n",
    "\n",
    "# Set the device to CPU if you don't have a GPU\n",
    "device = \"cuda\" if torch.cuda.is_available() else \"cpu\"\n",
    "model.to(device)\n",
    "\n",
    "# Set the model to evaluation mode\n",
    "model.eval()\n",
    "\n",
    "# Prompt for generation\n",
    "prompt = \"kohomada bn ubata?\"\n",
    "\n",
    "# Tokenize the prompt\n",
    "input_ids = tokenizer.encode(prompt, return_tensors=\"pt\").to(device)\n",
    "\n",
    "# Generate text based on the prompt\n",
    "output = model.generate(input_ids, max_length=100, num_return_sequences=1, pad_token_id=tokenizer.eos_token_id)\n",
    "\n",
    "# Decode the generated output\n",
    "generated_text = tokenizer.decode(output[0], skip_special_tokens=True)\n",
    "\n",
    "print(\"Generated Text:\")\n",
    "print(generated_text)"
   ]
  },
  {
   "cell_type": "code",
   "execution_count": null,
   "id": "fc7dfc50-3701-42aa-a751-eaa1051213f4",
   "metadata": {},
   "outputs": [],
   "source": []
  }
 ],
 "metadata": {
  "kernelspec": {
   "display_name": "Python 3 (ipykernel)",
   "language": "python",
   "name": "python3"
  },
  "language_info": {
   "codemirror_mode": {
    "name": "ipython",
    "version": 3
   },
   "file_extension": ".py",
   "mimetype": "text/x-python",
   "name": "python",
   "nbconvert_exporter": "python",
   "pygments_lexer": "ipython3",
   "version": "3.11.7"
  }
 },
 "nbformat": 4,
 "nbformat_minor": 5
}
