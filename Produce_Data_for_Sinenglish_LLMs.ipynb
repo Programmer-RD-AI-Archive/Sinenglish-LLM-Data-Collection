{
 "cells": [
  {
   "cell_type": "code",
   "execution_count": 1,
   "id": "0400a2cf-d6a9-4c86-a393-e5ab38be9646",
   "metadata": {},
   "outputs": [],
   "source": [
    "import pandas as pd\n",
    "import numpy as np\n",
    "import matplotlib.pyplot as plt"
   ]
  },
  {
   "cell_type": "markdown",
   "id": "8ac49437-3e71-4aa6-976e-aea1cea0bf91",
   "metadata": {},
   "source": [
    "# Reddit Scraping"
   ]
  },
  {
   "cell_type": "code",
   "execution_count": 9,
   "id": "d5d107da-ca41-4628-b602-3d0bede89d50",
   "metadata": {},
   "outputs": [],
   "source": [
    "import requests\n",
    "from bs4 import BeautifulSoup\n",
    "import time\n",
    "import random\n",
    "\n",
    "headers = {\n",
    "    'User-Agent': 'Mozilla/5.0 (Windows NT 10.0; Win64; x64) AppleWebKit/537.36 (KHTML, like Gecko) Chrome/91.0.4472.124 Safari/537.36',\n",
    "    'Accept-Language': 'en-US,en;q=0.9',\n",
    "    'Accept-Encoding': 'gzip, deflate, br',\n",
    "    'Connection': 'keep-alive',\n",
    "}\n",
    "\n",
    "url = 'https://www.reddit.com/r/srilanka/'\n",
    "response = requests.get(url, headers=headers)\n",
    "page = BeautifulSoup(response.content, 'html.parser')"
   ]
  },
  {
   "cell_type": "code",
   "execution_count": 24,
   "id": "20fc6b71-8f78-4303-b5d9-4029a3829428",
   "metadata": {},
   "outputs": [
    {
     "name": "stdout",
     "output_type": "stream",
     "text": [
      "ÿþ\"\u0000Y\u0000a\u0000k\u0000o\u0000o\u0000 \u0000m\u0000e\u0000e\u0000k\u0000a\u0000 \u0000h\u0000i\u0000n\u0000d\u0000i\u0000 \u0000s\u0000i\u0000n\u0000d\u0000u\u0000 \u0000k\u0000i\u0000y\u0000a\u0000n\u0000a\u0000w\u0000a\u0000n\u0000e\u0000 \u0000a\u0000d\u0000e\u0000n\u0000n\u0000a\u0000.\u0000.\u0000 \u0000M\u0000u\u0000 \u0000i\u0000n\u0000d\u0000i\u0000y\u0000a\u0000w\u0000e\u0000 \u0000h\u0000i\u0000t\u0000i\u0000y\u0000a\u0000n\u0000a\u0000m\u0000 \u0000p\u0000a\u0000t\u0000t\u0000a\u0000 \u0000p\u0000o\u0000r\u0000a\u0000k\u0000 \u0000w\u0000e\u0000l\u0000a\u0000a\u0000 \u0000a\u0000n\u0000i\u0000w\u0000a\u0000a\u0000\t\u0000\t\u0000\t\u0000\t\u0000\t\u0000\t\u0000\t\u0000\"\u0000\t\u0000º\n",
      "\n"
     ]
    }
   ],
   "source": [
    "with open('./Data/original_data/Romanized Sinhala- sinhala cleaned data.txt', 'r', encoding='latin-1') as f:\n",
    "    print(f.readline())"
   ]
  },
  {
   "cell_type": "code",
   "execution_count": 25,
   "id": "178553cc-a982-4c3f-a323-e09c41070f68",
   "metadata": {},
   "outputs": [
    {
     "name": "stdout",
     "output_type": "stream",
     "text": [
      "yogyathama/à¶ºà·à¶à·âà¶ºà¶­à¶¸\n",
      "\n"
     ]
    }
   ],
   "source": [
    "with open('./Data/original_data/Swa Bhasha D 1.txt', 'r', encoding='latin-1') as f:\n",
    "    print(f.readline())"
   ]
  },
  {
   "cell_type": "code",
   "execution_count": 26,
   "id": "7deb8383-57a7-447f-b727-33d65770509c",
   "metadata": {},
   "outputs": [
    {
     "name": "stdout",
     "output_type": "stream",
     "text": [
      "ÿþ¯\n",
      "\n"
     ]
    }
   ],
   "source": [
    "with open('./Data/original_data/test1.txt', 'r', encoding='latin-1') as f:\n",
    "    print(f.readline())"
   ]
  },
  {
   "cell_type": "code",
   "execution_count": 27,
   "id": "5acd784d-72c9-4cb4-bb7f-eedef72d5e50",
   "metadata": {},
   "outputs": [
    {
     "name": "stdout",
     "output_type": "stream",
     "text": [
      "Word: y, Sinhala Words: ['à¶ºà·', 'à¶º', 'à¶ºà·', 'à¶ºà·', 'à¶ºà·', 'à¶ºà·', 'à¶ºà·', 'à¶ºà·', 'à¶ºà·', 'à¶ºà·', 'à¶ºà·', 'à¶ºà·à¶', 'à¶ºà¶', 'à¶ºà·à·']\n",
      "\n"
     ]
    }
   ],
   "source": [
    "with open('./Data/original_data/WSD Romanized-Sinhala - Sinhala .txt', 'r', encoding='latin-1') as f:\n",
    "    print(f.readline())"
   ]
  },
  {
   "cell_type": "code",
   "execution_count": null,
   "id": "e9555b54-0c5d-4de2-bbb4-7b90a3be1d25",
   "metadata": {},
   "outputs": [],
   "source": []
  }
 ],
 "metadata": {
  "kernelspec": {
   "display_name": "Python 3 (ipykernel)",
   "language": "python",
   "name": "python3"
  },
  "language_info": {
   "codemirror_mode": {
    "name": "ipython",
    "version": 3
   },
   "file_extension": ".py",
   "mimetype": "text/x-python",
   "name": "python",
   "nbconvert_exporter": "python",
   "pygments_lexer": "ipython3",
   "version": "3.11.7"
  }
 },
 "nbformat": 4,
 "nbformat_minor": 5
}
