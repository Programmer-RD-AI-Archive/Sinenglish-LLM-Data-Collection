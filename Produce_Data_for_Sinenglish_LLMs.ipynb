{
 "cells": [
  {
   "cell_type": "code",
   "execution_count": 1,
   "id": "0400a2cf-d6a9-4c86-a393-e5ab38be9646",
   "metadata": {},
   "outputs": [],
   "source": [
    "import pandas as pd\n",
    "import numpy as np\n",
    "import csv\n",
    "import matplotlib.pyplot as plt\n",
    "from googletrans import Translator\n",
    "import logging\n",
    "import time\n",
    "from deep_translator import GoogleTranslator\n",
    "# Import the logging module to handle errors\n",
    "logging.basicConfig(level=logging.ERROR)"
   ]
  },
  {
   "cell_type": "code",
   "execution_count": 2,
   "id": "141bef38-b2d1-46f9-a1fc-d26b50a3bc41",
   "metadata": {},
   "outputs": [
    {
     "name": "stdout",
     "output_type": "stream",
     "text": [
      "Requirement already satisfied: googletrans==3.1.0a0 in /home/ranuga/anaconda3/lib/python3.11/site-packages (3.1.0a0)\n",
      "Requirement already satisfied: httpx==0.13.3 in /home/ranuga/anaconda3/lib/python3.11/site-packages (from googletrans==3.1.0a0) (0.13.3)\n",
      "Requirement already satisfied: certifi in /home/ranuga/anaconda3/lib/python3.11/site-packages (from httpx==0.13.3->googletrans==3.1.0a0) (2024.2.2)\n",
      "Requirement already satisfied: hstspreload in /home/ranuga/anaconda3/lib/python3.11/site-packages (from httpx==0.13.3->googletrans==3.1.0a0) (2024.6.1)\n",
      "Requirement already satisfied: sniffio in /home/ranuga/anaconda3/lib/python3.11/site-packages (from httpx==0.13.3->googletrans==3.1.0a0) (1.3.0)\n",
      "Requirement already satisfied: chardet==3.* in /home/ranuga/anaconda3/lib/python3.11/site-packages (from httpx==0.13.3->googletrans==3.1.0a0) (3.0.4)\n",
      "Requirement already satisfied: idna==2.* in /home/ranuga/anaconda3/lib/python3.11/site-packages (from httpx==0.13.3->googletrans==3.1.0a0) (2.10)\n",
      "Requirement already satisfied: rfc3986<2,>=1.3 in /home/ranuga/anaconda3/lib/python3.11/site-packages (from httpx==0.13.3->googletrans==3.1.0a0) (1.5.0)\n",
      "Requirement already satisfied: httpcore==0.9.* in /home/ranuga/anaconda3/lib/python3.11/site-packages (from httpx==0.13.3->googletrans==3.1.0a0) (0.9.1)\n",
      "Requirement already satisfied: h11<0.10,>=0.8 in /home/ranuga/anaconda3/lib/python3.11/site-packages (from httpcore==0.9.*->httpx==0.13.3->googletrans==3.1.0a0) (0.9.0)\n",
      "Requirement already satisfied: h2==3.* in /home/ranuga/anaconda3/lib/python3.11/site-packages (from httpcore==0.9.*->httpx==0.13.3->googletrans==3.1.0a0) (3.2.0)\n",
      "Requirement already satisfied: hyperframe<6,>=5.2.0 in /home/ranuga/anaconda3/lib/python3.11/site-packages (from h2==3.*->httpcore==0.9.*->httpx==0.13.3->googletrans==3.1.0a0) (5.2.0)\n",
      "Requirement already satisfied: hpack<4,>=3.0 in /home/ranuga/anaconda3/lib/python3.11/site-packages (from h2==3.*->httpcore==0.9.*->httpx==0.13.3->googletrans==3.1.0a0) (3.0.0)\n"
     ]
    }
   ],
   "source": [
    "!pip install googletrans==3.1.0a0"
   ]
  },
  {
   "cell_type": "code",
   "execution_count": 3,
   "id": "af9a8d21-911c-437c-9ebd-7b438218ce75",
   "metadata": {},
   "outputs": [],
   "source": [
    "def translate_to_sinhala(text):\n",
    "    time.sleep(1)\n",
    "    translator = Translator()\n",
    "    time.sleep(1)\n",
    "    translation = translator.translate(text, src='en', dest='si')\n",
    "    time.sleep(1)\n",
    "    return translation.text"
   ]
  },
  {
   "cell_type": "code",
   "execution_count": 4,
   "id": "2fe26b8a-c068-4b9e-9f3b-aadbaf44ac58",
   "metadata": {},
   "outputs": [],
   "source": [
    "# def translate_to_sinhala(text):\n",
    "#     translation = GoogleTranslator(source='en', target='si').translate(text)\n",
    "#     return translation"
   ]
  },
  {
   "cell_type": "code",
   "execution_count": 5,
   "id": "7c8cfe5e-a106-4ed7-9b66-b4b32169363b",
   "metadata": {},
   "outputs": [],
   "source": [
    "def convert_txt_to_csv(file_path, encoding='utf-16'):\n",
    "    with open(file_path, 'r', encoding=encoding) as file:\n",
    "        content = file.read()\n",
    "    lines = content.strip().split('\\n')\n",
    "    return lines"
   ]
  },
  {
   "cell_type": "code",
   "execution_count": 6,
   "id": "a66dd768-b2a4-4acd-b220-6d747cb685db",
   "metadata": {},
   "outputs": [],
   "source": [
    "# convert_txt_to_csv('./data/Singlish/Romanized Sinhala- sinhala cleaned data.txt')"
   ]
  },
  {
   "cell_type": "code",
   "execution_count": 7,
   "id": "fc983e85-3ea7-4739-918d-e7864e6b573d",
   "metadata": {},
   "outputs": [],
   "source": [
    "sinhala_to_singlish_dict = {}\n",
    "singlish_to_sinhala_dict = {}"
   ]
  },
  {
   "cell_type": "code",
   "execution_count": 8,
   "id": "fb77321f-4292-4e87-9698-915a78f09579",
   "metadata": {},
   "outputs": [],
   "source": [
    "from tqdm import tqdm"
   ]
  },
  {
   "cell_type": "code",
   "execution_count": 9,
   "id": "65f88b39-2ba2-4598-a500-acc1a011b042",
   "metadata": {},
   "outputs": [
    {
     "name": "stderr",
     "output_type": "stream",
     "text": [
      "100%|█████████████████████████████| 7122355/7122355 [00:09<00:00, 789141.70it/s]\n"
     ]
    }
   ],
   "source": [
    "for word_combo in tqdm(convert_txt_to_csv('./data/Singlish/Swa Bhasha D 1.txt', encoding='utf-8')):\n",
    "    singlish, sinhala = word_combo.split('/')\n",
    "    sinhala_to_singlish_dict[sinhala.strip().lower()] = singlish.strip().lower()\n",
    "    singlish_to_sinhala_dict[singlish.strip().lower()] = sinhala.strip().lower()"
   ]
  },
  {
   "cell_type": "code",
   "execution_count": 10,
   "id": "4e06d0a7-887a-4280-a3c0-f444f37f78c0",
   "metadata": {},
   "outputs": [
    {
     "name": "stderr",
     "output_type": "stream",
     "text": [
      "100%|███████████████████████████████| 440024/440024 [00:00<00:00, 640290.48it/s]\n"
     ]
    }
   ],
   "source": [
    "for word_combo in tqdm(convert_txt_to_csv('./data/Singlish/test1.txt')):\n",
    "    sinhala, singlish = word_combo.split(',')\n",
    "    sinhala_to_singlish_dict[sinhala.strip().lower()] = singlish.strip().lower()\n",
    "    singlish_to_sinhala_dict[singlish.strip().lower()] = sinhala.strip().lower()"
   ]
  },
  {
   "cell_type": "code",
   "execution_count": 11,
   "id": "d75b374d-54c3-4ce7-bbdd-1725a36140e3",
   "metadata": {},
   "outputs": [],
   "source": [
    "# convert_txt_to_csv('./data/Singlish/WSD Romanized-Sinhala - Sinhala .txt', encoding=\"utf-8\")"
   ]
  },
  {
   "cell_type": "code",
   "execution_count": 12,
   "id": "0a79e3ed-ff40-4e03-9517-05b88eb18cf7",
   "metadata": {},
   "outputs": [
    {
     "data": {
      "text/plain": [
       "['yogyathama', 'yogyatha', 'yogya', 'yogini', 'yogat']"
      ]
     },
     "execution_count": 12,
     "metadata": {},
     "output_type": "execute_result"
    }
   ],
   "source": [
    "list(sinhala_to_singlish_dict.values())[:5]"
   ]
  },
  {
   "cell_type": "code",
   "execution_count": 13,
   "id": "f8de0d27-11c8-43a7-b3ef-93ceb4df1462",
   "metadata": {},
   "outputs": [
    {
     "data": {
      "text/plain": [
       "['යෝග්\\u200dයතම', 'යෝග්\\u200dයතා', 'යොග්\\u200dය', 'යෝගිනී', 'යෝගට්']"
      ]
     },
     "execution_count": 13,
     "metadata": {},
     "output_type": "execute_result"
    }
   ],
   "source": [
    "list(singlish_to_sinhala_dict.values())[:5]"
   ]
  },
  {
   "cell_type": "code",
   "execution_count": 14,
   "id": "a36076dc-cd0e-4513-a94c-de2d7281a0e3",
   "metadata": {},
   "outputs": [],
   "source": [
    "# english_text = \"Hello, how are you?\"\n",
    "# sinhala_text = translate_to_sinhala(english_text)\n",
    "# print(f\"English: {english_text}\")\n",
    "# print(f\"Sinhala: {sinhala_text}\")"
   ]
  },
  {
   "cell_type": "code",
   "execution_count": 15,
   "id": "ff1dda6d-c777-4bab-8180-145fd91003a2",
   "metadata": {},
   "outputs": [
    {
     "name": "stderr",
     "output_type": "stream",
     "text": [
      "/tmp/ipykernel_82183/1497944970.py:1: DtypeWarning: Columns (0,6,9,10) have mixed types. Specify dtype option on import or set low_memory=False.\n",
      "  tweet_gpt = pd.read_csv('./data/ChatBot/TweetChatGPT.csv')[['Tweet', 'Description']]\n"
     ]
    }
   ],
   "source": [
    "tweet_gpt = pd.read_csv('./data/ChatBot/TweetChatGPT.csv')[['Tweet', 'Description']]"
   ]
  },
  {
   "cell_type": "code",
   "execution_count": 16,
   "id": "e40a6cc7-577e-4f00-aa74-816221598928",
   "metadata": {},
   "outputs": [],
   "source": [
    "general_chatbot = pd.read_csv('./data/ChatBot/GeneralCovos.csv')[['question', 'answer']]"
   ]
  },
  {
   "cell_type": "code",
   "execution_count": 17,
   "id": "6b87fe99-ac53-4a38-adf0-272db300620d",
   "metadata": {},
   "outputs": [],
   "source": [
    "general_chatbot.columns = ['q', 'a']"
   ]
  },
  {
   "cell_type": "code",
   "execution_count": 18,
   "id": "ed6b1a90-ef47-449c-993b-c0d43e266564",
   "metadata": {},
   "outputs": [],
   "source": [
    "tweet_gpt.columns = ['q', 'a']"
   ]
  },
  {
   "cell_type": "code",
   "execution_count": 19,
   "id": "2f4dc6cc-6a14-417d-8154-ce924a17f73d",
   "metadata": {},
   "outputs": [],
   "source": [
    "data = pd.concat([general_chatbot, tweet_gpt])"
   ]
  },
  {
   "cell_type": "code",
   "execution_count": 20,
   "id": "91e37e8e-cb32-4f78-8d1b-abfd60522f23",
   "metadata": {},
   "outputs": [
    {
     "data": {
      "text/html": [
       "<div>\n",
       "<style scoped>\n",
       "    .dataframe tbody tr th:only-of-type {\n",
       "        vertical-align: middle;\n",
       "    }\n",
       "\n",
       "    .dataframe tbody tr th {\n",
       "        vertical-align: top;\n",
       "    }\n",
       "\n",
       "    .dataframe thead th {\n",
       "        text-align: right;\n",
       "    }\n",
       "</style>\n",
       "<table border=\"1\" class=\"dataframe\">\n",
       "  <thead>\n",
       "    <tr style=\"text-align: right;\">\n",
       "      <th></th>\n",
       "      <th>q</th>\n",
       "      <th>a</th>\n",
       "    </tr>\n",
       "  </thead>\n",
       "  <tbody>\n",
       "    <tr>\n",
       "      <th>0</th>\n",
       "      <td>Well, I thought we'd start with pronunciation,...</td>\n",
       "      <td>Not the hacking and gagging and spitting part....</td>\n",
       "    </tr>\n",
       "    <tr>\n",
       "      <th>1</th>\n",
       "      <td>Not the hacking and gagging and spitting part....</td>\n",
       "      <td>Okay... then how 'bout we try out some French ...</td>\n",
       "    </tr>\n",
       "    <tr>\n",
       "      <th>2</th>\n",
       "      <td>You're asking me out.  That's so cute. What's ...</td>\n",
       "      <td>Forget it.</td>\n",
       "    </tr>\n",
       "    <tr>\n",
       "      <th>3</th>\n",
       "      <td>No, no, it's my fault -- we didn't have a prop...</td>\n",
       "      <td>Cameron.</td>\n",
       "    </tr>\n",
       "    <tr>\n",
       "      <th>4</th>\n",
       "      <td>Gosh, if only we could find Kat a boyfriend...</td>\n",
       "      <td>Let me see what I can do.</td>\n",
       "    </tr>\n",
       "    <tr>\n",
       "      <th>...</th>\n",
       "      <td>...</td>\n",
       "      <td>...</td>\n",
       "    </tr>\n",
       "    <tr>\n",
       "      <th>478342</th>\n",
       "      <td>@OpenAI 's new #ChatGPT is insane\\nPrompt: An ...</td>\n",
       "      <td>Creator of TikTokApi Python Package | General ...</td>\n",
       "    </tr>\n",
       "    <tr>\n",
       "      <th>478343</th>\n",
       "      <td>ChatGPT first look - https://t.co/16K2NlmOoY. ...</td>\n",
       "      <td>Build, test, experiment, deploy and enjoy the ...</td>\n",
       "    </tr>\n",
       "    <tr>\n",
       "      <th>478344</th>\n",
       "      <td>OK so @OpenAI's new #ChatGPT can basically jus...</td>\n",
       "      <td>building things with #AI 🤖 #DALLE &amp; #MidJourne...</td>\n",
       "    </tr>\n",
       "    <tr>\n",
       "      <th>478345</th>\n",
       "      <td>Just in! \\n#ChatGPT - research early stage GPT...</td>\n",
       "      <td>Co-Founder, CIO &amp; COO @ IDWise - Trust but ver...</td>\n",
       "    </tr>\n",
       "    <tr>\n",
       "      <th>478346</th>\n",
       "      <td>#ai Models are set to become the search engine...</td>\n",
       "      <td>All things SEO + Ai - Random Facts - cofounder...</td>\n",
       "    </tr>\n",
       "  </tbody>\n",
       "</table>\n",
       "<p>617756 rows × 2 columns</p>\n",
       "</div>"
      ],
      "text/plain": [
       "                                                        q  \\\n",
       "0       Well, I thought we'd start with pronunciation,...   \n",
       "1       Not the hacking and gagging and spitting part....   \n",
       "2       You're asking me out.  That's so cute. What's ...   \n",
       "3       No, no, it's my fault -- we didn't have a prop...   \n",
       "4          Gosh, if only we could find Kat a boyfriend...   \n",
       "...                                                   ...   \n",
       "478342  @OpenAI 's new #ChatGPT is insane\\nPrompt: An ...   \n",
       "478343  ChatGPT first look - https://t.co/16K2NlmOoY. ...   \n",
       "478344  OK so @OpenAI's new #ChatGPT can basically jus...   \n",
       "478345  Just in! \\n#ChatGPT - research early stage GPT...   \n",
       "478346  #ai Models are set to become the search engine...   \n",
       "\n",
       "                                                        a  \n",
       "0       Not the hacking and gagging and spitting part....  \n",
       "1       Okay... then how 'bout we try out some French ...  \n",
       "2                                              Forget it.  \n",
       "3                                                Cameron.  \n",
       "4                               Let me see what I can do.  \n",
       "...                                                   ...  \n",
       "478342  Creator of TikTokApi Python Package | General ...  \n",
       "478343  Build, test, experiment, deploy and enjoy the ...  \n",
       "478344  building things with #AI 🤖 #DALLE & #MidJourne...  \n",
       "478345  Co-Founder, CIO & COO @ IDWise - Trust but ver...  \n",
       "478346  All things SEO + Ai - Random Facts - cofounder...  \n",
       "\n",
       "[617756 rows x 2 columns]"
      ]
     },
     "execution_count": 20,
     "metadata": {},
     "output_type": "execute_result"
    }
   ],
   "source": [
    "data"
   ]
  },
  {
   "cell_type": "code",
   "execution_count": 21,
   "id": "cccf785d-4840-4fa1-966b-100cc203749d",
   "metadata": {},
   "outputs": [
    {
     "data": {
      "text/plain": [
       "q    Well, I thought we'd start with pronunciation,...\n",
       "a    Not the hacking and gagging and spitting part....\n",
       "Name: 0, dtype: object"
      ]
     },
     "execution_count": 21,
     "metadata": {},
     "output_type": "execute_result"
    }
   ],
   "source": [
    "data.iloc[0]"
   ]
  },
  {
   "cell_type": "code",
   "execution_count": 22,
   "id": "2ac80c58-2633-4ab0-bbf1-7f3dc5f4ae20",
   "metadata": {},
   "outputs": [],
   "source": [
    "def sinhala_to_singlish(sentence):\n",
    "    sentence = remove_other_characters(sentence).split(' ')\n",
    "    singlish_words = []\n",
    "    for word in sentence:\n",
    "        if word in sinhala_to_singlish_dict.keys():\n",
    "            singlish_words.append(sinhala_to_singlish_dict[word])\n",
    "        else:\n",
    "            singlish_words.append(\"[Unkown]\")\n",
    "    return \" \".join(singlish_words)"
   ]
  },
  {
   "cell_type": "code",
   "execution_count": 23,
   "id": "06c4d0ff-cb3b-4672-8986-5c4503c75860",
   "metadata": {},
   "outputs": [],
   "source": [
    "import re"
   ]
  },
  {
   "cell_type": "code",
   "execution_count": 24,
   "id": "ff2a07a6-25eb-4e8d-9b7f-35c747d78f31",
   "metadata": {},
   "outputs": [],
   "source": [
    "random_characters = ['!', '\"', \"'\", '#', '$', '%', '&', '(', ')', '*', '+', ',', '-', '.', '/', ':', ';', '<', '=', '>', '?', '@', '[', '\\\\', ']', '^', '_', '`', '{', '|', '}', '~']\n",
    "remove_other_characters = lambda sentence: re.sub(r'\\s+', ' ', ''.join(char if char not in random_characters else ' ' for char in sentence))"
   ]
  },
  {
   "cell_type": "code",
   "execution_count": 25,
   "id": "901ad654-9529-4e98-99bd-2e535f6868a4",
   "metadata": {},
   "outputs": [],
   "source": [
    "converted_data_dict = {\n",
    "    \"Sinhala\":[],\n",
    "    \"English\":[],\n",
    "    \"Singlish\":[]\n",
    "}"
   ]
  },
  {
   "cell_type": "code",
   "execution_count": 26,
   "id": "29c2e1c2-9412-4aac-a41d-2194be5dbd71",
   "metadata": {},
   "outputs": [],
   "source": [
    "import threading\n",
    "from queue import Queue"
   ]
  },
  {
   "cell_type": "code",
   "execution_count": null,
   "id": "1315b4e5-503f-4343-b121-dc155bb434b9",
   "metadata": {},
   "outputs": [
    {
     "name": "stderr",
     "output_type": "stream",
     "text": [
      "Queueing: 100%|██████████████████| 617756/617756 [00:00<00:00, 1259197.85rows/s]\n",
      "Processing:   2%|▎                | 11656/617756 [2:00:13<85:59:40,  1.96rows/s]Exception in thread Thread-7 (worker):\n",
      "Traceback (most recent call last):\n",
      "  File \"/home/ranuga/anaconda3/lib/python3.11/threading.py\", line 1045, in _bootstrap_inner\n",
      "Exception in thread Thread-9 (worker):\n",
      "Traceback (most recent call last):\n",
      "  File \"/home/ranuga/anaconda3/lib/python3.11/threading.py\", line 1045, in _bootstrap_inner\n",
      "    self.run()\n",
      "  File \"/home/ranuga/anaconda3/lib/python3.11/threading.py\", line 982, in run\n",
      "    self._target(*self._args, **self._kwargs)\n",
      "  File \"/tmp/ipykernel_82183/1472033634.py\", line 14, in worker\n",
      "    self.run()\n",
      "  File \"/home/ranuga/anaconda3/lib/python3.11/threading.py\", line 982, in run\n",
      "    self._target(*self._args, **self._kwargs)\n",
      "  File \"/tmp/ipykernel_82183/1472033634.py\", line 14, in worker\n",
      "  File \"/tmp/ipykernel_82183/766331838.py\", line 5, in translate_to_sinhala\n",
      "  File \"/tmp/ipykernel_82183/766331838.py\", line 5, in translate_to_sinhala\n",
      "  File \"/home/ranuga/anaconda3/lib/python3.11/site-packages/googletrans/client.py\", line 210, in translate\n",
      "  File \"/home/ranuga/anaconda3/lib/python3.11/site-packages/googletrans/client.py\", line 210, in translate\n",
      "    data, response = self._translate(text, dest, src, kwargs)\n",
      "                     ^^^^^^^^^^^^^^^^^^^^^^^^^^^^^^^^^^^^^^^^\n",
      "  File \"/home/ranuga/anaconda3/lib/python3.11/site-packages/googletrans/client.py\", line 108, in _translate\n",
      "    data, response = self._translate(text, dest, src, kwargs)\n",
      "                     ^^^^^^^^^^^^^^^^^^^^^^^^^^^^^^^^^^^^^^^^\n",
      "  File \"/home/ranuga/anaconda3/lib/python3.11/site-packages/googletrans/client.py\", line 108, in _translate\n",
      "    r = self.client.get(url, params=params)\n",
      "        ^^^^^^^^^^^^^^^^^^^^^^^^^^^^^^^^^^^\n",
      "  File \"/home/ranuga/anaconda3/lib/python3.11/site-packages/httpx/_client.py\", line 755, in get\n",
      "    r = self.client.get(url, params=params)\n",
      "        ^^^^^^^^^^^^^^^^^^^^^^^^^^^^^^^^^^^\n",
      "  File \"/home/ranuga/anaconda3/lib/python3.11/site-packages/httpx/_client.py\", line 755, in get\n",
      "    return self.request(\n",
      "           ^^^^^^^^^^^^^\n",
      "  File \"/home/ranuga/anaconda3/lib/python3.11/site-packages/httpx/_client.py\", line 600, in request\n",
      "    return self.request(\n",
      "           ^^^^^^^^^^^^^\n",
      "  File \"/home/ranuga/anaconda3/lib/python3.11/site-packages/httpx/_client.py\", line 600, in request\n",
      "    return self.send(\n",
      "           ^^^^^^^^^^\n",
      "  File \"/home/ranuga/anaconda3/lib/python3.11/site-packages/httpx/_client.py\", line 620, in send\n",
      "    return self.send(\n",
      "           ^^^^^^^^^^\n",
      "  File \"/home/ranuga/anaconda3/lib/python3.11/site-packages/httpx/_client.py\", line 620, in send\n",
      "    response = self.send_handling_redirects(\n",
      "               ^^^^^^^^^^^^^^^^^^^^^^^^^^^^^\n",
      "  File \"/home/ranuga/anaconda3/lib/python3.11/site-packages/httpx/_client.py\", line 647, in send_handling_redirects\n",
      "    response = self.send_handling_redirects(\n",
      "               ^^^^^^^^^^^^^^^^^^^^^^^^^^^^^\n",
      "  File \"/home/ranuga/anaconda3/lib/python3.11/site-packages/httpx/_client.py\", line 647, in send_handling_redirects\n",
      "    response = self.send_handling_auth(\n",
      "               ^^^^^^^^^^^^^^^^^^^^^^^^\n",
      "  File \"/home/ranuga/anaconda3/lib/python3.11/site-packages/httpx/_client.py\", line 684, in send_handling_auth\n",
      "    response = self.send_handling_auth(\n",
      "               ^^^^^^^^^^^^^^^^^^^^^^^^\n",
      "  File \"/home/ranuga/anaconda3/lib/python3.11/site-packages/httpx/_client.py\", line 684, in send_handling_auth\n",
      "    response = self.send_single_request(request, timeout)\n",
      "               ^^^^^^^^^^^^^^^^^^^^^^^^^^^^^^^^^^^^^^^^^^\n",
      "  File \"/home/ranuga/anaconda3/lib/python3.11/site-packages/httpx/_client.py\", line 714, in send_single_request\n",
      "    response = self.send_single_request(request, timeout)\n",
      "               ^^^^^^^^^^^^^^^^^^^^^^^^^^^^^^^^^^^^^^^^^^\n",
      "  File \"/home/ranuga/anaconda3/lib/python3.11/site-packages/httpx/_client.py\", line 714, in send_single_request\n",
      "    ) = transport.request(\n",
      "        ^^^^^^^^^^^^^^^^^^\n",
      "  File \"/home/ranuga/anaconda3/lib/python3.11/site-packages/httpcore/_sync/connection_pool.py\", line 152, in request\n",
      "    ) = transport.request(\n",
      "        ^^^^^^^^^^^^^^^^^^\n",
      "  File \"/home/ranuga/anaconda3/lib/python3.11/site-packages/httpcore/_sync/connection_pool.py\", line 152, in request\n",
      "    response = connection.request(\n",
      "               ^^^^^^^^^^^^^^^^^^^\n",
      "  File \"/home/ranuga/anaconda3/lib/python3.11/site-packages/httpcore/_sync/connection.py\", line 78, in request\n",
      "    response = connection.request(\n",
      "               ^^^^^^^^^^^^^^^^^^^\n",
      "  File \"/home/ranuga/anaconda3/lib/python3.11/site-packages/httpcore/_sync/connection.py\", line 65, in request\n",
      "    return self.connection.request(method, url, headers, stream, timeout)\n",
      "           ^^^^^^^^^^^^^^^^^^^^^^^^^^^^^^^^^^^^^^^^^^^^^^^^^^^^^^^^^^^^^^\n",
      "  File \"/home/ranuga/anaconda3/lib/python3.11/site-packages/httpcore/_sync/http2.py\", line 118, in request\n",
      "    self.socket = self._open_socket(timeout)\n",
      "                  ^^^^^^^^^^^^^^^^^^^^^^^^^^\n",
      "  File \"/home/ranuga/anaconda3/lib/python3.11/site-packages/httpcore/_sync/connection.py\", line 85, in _open_socket\n",
      "    return h2_stream.request(method, url, headers, stream, timeout)\n",
      "           ^^^^^^^^^^^^^^^^^^^^^^^^^^^^^^^^^^^^^^^^^^^^^^^^^^^^^^^^\n",
      "  File \"/home/ranuga/anaconda3/lib/python3.11/site-packages/httpcore/_sync/http2.py\", line 292, in request\n",
      "    return self.backend.open_tcp_stream(\n",
      "           ^^^^^^^^^^^^^^^^^^^^^^^^^^^^^\n",
      "  File \"/home/ranuga/anaconda3/lib/python3.11/site-packages/httpcore/_backends/sync.py\", line 133, in open_tcp_stream\n",
      "    status_code, headers = self.receive_response(timeout)\n",
      "                           ^^^^^^^^^^^^^^^^^^^^^^^^^^^^^^\n",
      "  File \"/home/ranuga/anaconda3/lib/python3.11/site-packages/httpcore/_sync/http2.py\", line 344, in receive_response\n",
      "    with map_exceptions(exc_map):\n",
      "  File \"/home/ranuga/anaconda3/lib/python3.11/contextlib.py\", line 158, in __exit__\n",
      "    event = self.connection.wait_for_event(self.stream_id, timeout)\n",
      "            ^^^^^^^^^^^^^^^^^^^^^^^^^^^^^^^^^^^^^^^^^^^^^^^^^^^^^^^\n",
      "  File \"/home/ranuga/anaconda3/lib/python3.11/site-packages/httpcore/_sync/http2.py\", line 197, in wait_for_event\n",
      "    self.gen.throw(typ, value, traceback)\n",
      "  File \"/home/ranuga/anaconda3/lib/python3.11/site-packages/httpcore/_exceptions.py\", line 12, in map_exceptions\n",
      "    self.receive_events(timeout)\n",
      "  File \"/home/ranuga/anaconda3/lib/python3.11/site-packages/httpcore/_sync/http2.py\", line 204, in receive_events\n",
      "    raise to_exc(exc) from None\n",
      "httpcore._exceptions.ConnectError: [Errno 101] Network is unreachable\n",
      "    data = self.socket.read(self.READ_NUM_BYTES, timeout)\n",
      "           ^^^^^^^^^^^^^^^^^^^^^^^^^^^^^^^^^^^^^^^^^^^^^^\n",
      "  File \"/home/ranuga/anaconda3/lib/python3.11/site-packages/httpcore/_backends/sync.py\", line 60, in read\n",
      "    with map_exceptions(exc_map):\n",
      "  File \"/home/ranuga/anaconda3/lib/python3.11/contextlib.py\", line 158, in __exit__\n",
      "    self.gen.throw(typ, value, traceback)\n",
      "  File \"/home/ranuga/anaconda3/lib/python3.11/site-packages/httpcore/_exceptions.py\", line 12, in map_exceptions\n",
      "    raise to_exc(exc) from None\n",
      "httpcore._exceptions.ReadTimeout: The read operation timed out\n",
      "Processing:   6%|▉               | 34346/617756 [8:02:42<126:33:15,  1.28rows/s]"
     ]
    }
   ],
   "source": [
    "def save_data(converted_data_dict):\n",
    "    df = pd.DataFrame(converted_data_dict)\n",
    "    df.to_csv('converted_data.csv', index=False)\n",
    "\n",
    "def worker():\n",
    "    while True:\n",
    "        idx = idx_queue.get()\n",
    "        if idx is None:\n",
    "            break\n",
    "        row = data.iloc[idx]\n",
    "        english = row['q'] + row['a']\n",
    "        english = english.strip().lower()\n",
    "        english = remove_other_characters(english)\n",
    "        sinhala = translate_to_sinhala(english)\n",
    "        singlish = sinhala_to_singlish(sinhala)\n",
    "        with lock:\n",
    "            converted_data_dict['Sinhala'].append(sinhala)\n",
    "            converted_data_dict['English'].append(english)\n",
    "            converted_data_dict['Singlish'].append(singlish)\n",
    "            # Save data every time it is updated\n",
    "            save_data(converted_data_dict)\n",
    "        idx_queue.task_done()\n",
    "        progress_bar.update(1)\n",
    "\n",
    "# Number of threads to use\n",
    "num_threads = 6  # Adjust as needed\n",
    "\n",
    "# Initialize data structures\n",
    "converted_data_dict = {'Sinhala': [], 'English': [], 'Singlish': []}\n",
    "idx_queue = Queue()\n",
    "lock = threading.Lock()\n",
    "\n",
    "# Add indices to the queue with progress bar\n",
    "with tqdm(total=len(data), desc=\"Queueing\", unit=\"rows\") as queueing_bar:\n",
    "    for idx in range(len(data)):\n",
    "        idx_queue.put(idx)\n",
    "        queueing_bar.update(1)\n",
    "\n",
    "# Start worker threads\n",
    "threads = []\n",
    "for _ in range(num_threads):\n",
    "    thread = threading.Thread(target=worker)\n",
    "    thread.start()\n",
    "    threads.append(thread)\n",
    "\n",
    "# Use tqdm to track progress\n",
    "with tqdm(total=len(data), desc=\"Processing\", unit=\"rows\") as progress_bar:\n",
    "    for _ in range(num_threads):\n",
    "        idx_queue.put(None)\n",
    "\n",
    "    # Wait for all tasks in the queue to be processed\n",
    "    idx_queue.join()\n",
    "\n",
    "# Wait for all threads to finish\n",
    "for thread in threads:\n",
    "    thread.join()"
   ]
  },
  {
   "cell_type": "code",
   "execution_count": null,
   "id": "983b8370-2cc0-4f65-ab7e-d20c36848334",
   "metadata": {},
   "outputs": [],
   "source": []
  }
 ],
 "metadata": {
  "kernelspec": {
   "display_name": "Python 3 (ipykernel)",
   "language": "python",
   "name": "python3"
  },
  "language_info": {
   "codemirror_mode": {
    "name": "ipython",
    "version": 3
   },
   "file_extension": ".py",
   "mimetype": "text/x-python",
   "name": "python",
   "nbconvert_exporter": "python",
   "pygments_lexer": "ipython3",
   "version": "3.11.7"
  }
 },
 "nbformat": 4,
 "nbformat_minor": 5
}
